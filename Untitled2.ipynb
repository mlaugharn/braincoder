{
 "cells": [
  {
   "cell_type": "code",
   "execution_count": 1,
   "id": "forward-shower",
   "metadata": {},
   "outputs": [],
   "source": [
    "import torch\n",
    "import numpy as np\n",
    "import pandas as pd\n",
    "import os\n",
    "from pathlib import Path\n",
    "import imageio\n",
    "import config\n",
    "from tqdm.autonotebook import tqdm\n",
    "from PIL import Image\n",
    "from torch import nn\n",
    "import einops\n",
    "from einops.layers.torch import Rearrange\n",
    "\n",
    "def image_prepare(img,size):\n",
    "\n",
    "        out_img = np.zeros([size,size,3])\n",
    "        s = img.shape\n",
    "        r = s[0]\n",
    "        c = s[1]\n",
    "\n",
    "        trimSize = np.min([r, c])\n",
    "        lr = int((c - trimSize) / 2)\n",
    "        ud = int((r - trimSize) / 2)\n",
    "        img = img[ud:min([(trimSize + 1), r - ud]) + ud, lr:min([(trimSize + 1), c - lr]) + lr]\n",
    "\n",
    "        # img = imresize(img, size=[size, size], interp=interpolation)\n",
    "        img = np.array(Image.fromarray(img).resize(size=[size, size], resample=Image.CUBIC))\n",
    "        if (np.ndim(img) == 3):\n",
    "            out_img = img\n",
    "        else:\n",
    "            out_img[ :, :, 0] = imgi\n",
    "            out_img[ :, :, 1] = img\n",
    "            out_img[ :, :, 2] = img\n",
    "\n",
    "        return out_img/255.0\n",
    "\n",
    "def gen_npz(test_csv='images/image_test_id.csv',\n",
    "            train_csv='images/image_training_id.csv', \n",
    "            size=config.img_size,\n",
    "            interpolation='cubic'):\n",
    "    test_im = pd.read_csv(test_csv, header=None)\n",
    "    train_im = pd.read_csv(train_csv, header=None)\n",
    "    \n",
    "    test_images = np.zeros([50, size, size, 3])\n",
    "    train_images = np.zeros([1200, size, size, 3])\n",
    "    \n",
    "    for idx, file in tqdm(enumerate(test_im[1])):\n",
    "        img = imageio.imread(Path('images/test')/file)\n",
    "        test_images[idx] = image_prepare(img, size)\n",
    "    \n",
    "    for idx, file in tqdm(enumerate(train_im[1])):\n",
    "        img = imageio.imread(Path('images/training')/file)\n",
    "        train_images[idx] = image_prepare(img, size)\n",
    "    \n",
    "    np.savez(config.npz_file, train_images=train_images, test_images=test_images)\n",
    "\n",
    "def get_mgrid(sidelen, dim=2):\n",
    "    '''Generates a flattened grid of (x,y,...) coordinates in a range of -1 to 1.\n",
    "    sidelen: int\n",
    "    dim: int'''\n",
    "    tensors = tuple(dim * [torch.linspace(-1, 1, steps=sidelen)])\n",
    "    mgrid = torch.stack(torch.meshgrid(*tensors), dim=-1)\n",
    "    mgrid = mgrid.reshape(-1, dim)\n",
    "    return mgrid\n",
    "\n",
    "class ImageDataset(torch.utils.data.Dataset):\n",
    "    def __init__(self, kind):\n",
    "        self.kind = kind # either 'train_images' or 'test_images'\n",
    "        assert os.path.exists(config.npz_file), \"Run gen_npz first\"\n",
    "        self.images = np.load(config.npz_file)[self.kind]\n",
    "        self.coords = get_mgrid(config.img_size, 2)\n",
    "    \n",
    "    def __len__(self):\n",
    "        return self.images.shape[0]\n",
    "    \n",
    "    def __getitem__(self, idx):\n",
    "        return self.images[idx], idx\n",
    "    \n",
    "# class VanillaImageDataset(torch.utils.data.Dataset)"
   ]
  },
  {
   "cell_type": "code",
   "execution_count": 2,
   "id": "neither-syria",
   "metadata": {},
   "outputs": [],
   "source": [
    "train_ds = ImageDataset(kind='train_images')"
   ]
  },
  {
   "cell_type": "code",
   "execution_count": 16,
   "id": "jewish-edinburgh",
   "metadata": {},
   "outputs": [],
   "source": [
    "# strongly influenced (ie, basically lifted entirely from) kamitani_data_handler.py in ssfrmi2im\n",
    "\n",
    "from scipy.io import loadmat\n",
    "import numpy as np\n",
    "import pandas as pd\n",
    "import sklearn.preprocessing\n",
    "from sklearn import preprocessing\n",
    "\n",
    "class kamitani_data_handler():\n",
    "    def __init__(self,\n",
    "                 matlab_file,\n",
    "                 test_img_csv = 'KamitaniData/imageID_test.csv',\n",
    "                train_img_csv='KamitaniData/imageID_training.csv',\n",
    "                voxel_spacing=3,\n",
    "                log=0):\n",
    "        mat = loadmat(matlab_file)\n",
    "        self.data = mat['dataSet'][:,3:]\n",
    "        self.sample_meta = mat['dataSet'][:,:3]\n",
    "        meta = mat['metaData']\n",
    "        \n",
    "        self.meta_keys = list(l[0] for l in meta[0][0][0][0])\n",
    "        self.meta_desc = list(l[0] for l in meta[0][0][1][0])\n",
    "        self.voxel_meta = np.nan_to_num(meta[0][0][2][:,3:])\n",
    "        test_img_df = pd.read_csv(test_img_csv, header=None)\n",
    "        train_img_df = pd.read_csv(train_img_csv, header=None)\n",
    "        self.test_img_id=test_img_df[0].values\n",
    "        self.train_img_id=train_img_df[0].values\n",
    "        self.sample_type = {'train': 1, 'test': 2, 'test_imagine': 3}\n",
    "        self.voxel_spacing = voxel_spacing\n",
    "        self.log = log\n",
    "        \n",
    "    def get_meta_field(self, field = 'DataType'):\n",
    "        index = self.meta_keys.index(field)\n",
    "        if (index < 3): # 3 first keys are sample meta\n",
    "            return self.sample_meta[:, index]\n",
    "        else:\n",
    "            return self.voxel_meta[index]\n",
    "        \n",
    "    def print_meta_desc(self):\n",
    "        print(self.meta_desc)\n",
    "    \n",
    "    def get_labels(self, imag_data = 0, test_run_list = None):\n",
    "        le = preprocessing.LabelEncoder()\n",
    "        \n",
    "        img_ids = self.get_meta_field('Label')\n",
    "        type = self.get_meta_field('DataType')\n",
    "        train = (type == self.sample_type['train'])\n",
    "        test = (type == self.sample_type['test'])\n",
    "        imag = (type == self.sample_type['test_imagine'])\n",
    "        \n",
    "        img_ids_train = img_ids[train]\n",
    "        img_ids_test = img_ids[test]\n",
    "        img_ids_imag = img_ids[imag]\n",
    "        \n",
    "        train_labels = []\n",
    "        test_labels = []\n",
    "        imag_labels = []\n",
    "        \n",
    "        for id in img_ids_test:\n",
    "            idx = (np.abs(id - self.test_img_id)).argmin()\n",
    "            test_labels.append(idx)\n",
    "        \n",
    "        for id in img_ids_train:\n",
    "            idx = (np.abs(id - self.train_img_id)).argmin()\n",
    "            train_labels.append(idx)\n",
    "            \n",
    "        for id in img_ids_imag:\n",
    "            idx = (np.abs(id - self.test_img_id)).argmin()\n",
    "            imag_labels.append(idx)\n",
    "        \n",
    "        if (test_run_list is not None):\n",
    "            run = self.get_meta_field('Run')\n",
    "            test = (self.get_meta_field('DataType') == 2).astype(bool)\n",
    "            run = run[test]\n",
    "            \n",
    "            select = np.in1d(run, test_run_list)\n",
    "            test_labels = test_labels[select]\n",
    "            \n",
    "        # imag_labels = le.fit_transform(img_ids_imag)\n",
    "        if(imag_data):\n",
    "            return np.array(train_labels), np.array(test_labels), np.array(imag_labels)\n",
    "        else:\n",
    "            return np.array(train_labels), np.array(test_labels)\n",
    "        \n",
    "    def get_data(self,\n",
    "                 normalize = 1,\n",
    "                roi = 'ROI_VC',\n",
    "                imag_data = 0,\n",
    "                test_run_list = None): # normalize 0- no, 1- per run, 2- train/test separately\n",
    "        type = self.get_meta_field('DataType')\n",
    "        train = (type == self.sample_type['train'])\n",
    "        test = (type == self.sample_type['test'])\n",
    "        test_imag = (type == self.sample_type['test_imagine'])\n",
    "        test_all = np.logical_or(test, test_imag)\n",
    "        \n",
    "        roi_select = self.get_meta_field(roi).astype(bool)\n",
    "        data = self.data[:, roi_select]\n",
    "        \n",
    "        if self.log == 1:\n",
    "            data = np.log(1 + np.abs(data)) * np.sign(data)\n",
    "        \n",
    "        if normalize == 1:\n",
    "            run = self.get_meta_field('Run').astype(int)-1\n",
    "            num_runs = np.max(run) + 1\n",
    "            data_norm = np.zeros(data.shape)\n",
    "            \n",
    "            for r in range(num_runs):\n",
    "                data_norm[r==run] = sklearn.preprocessing.scale(data[r==run])\n",
    "            train_data = data_norm[train]\n",
    "            test_data = data_norm[test]\n",
    "            test_all = data_norm[test_all]\n",
    "            test_imag = data_norm[test_imag]\n",
    "        \n",
    "        else:\n",
    "            train_data = data[train]\n",
    "            test_data = data[test]\n",
    "            if normalize == 2:\n",
    "                train_data = sklearn.preprocessing.scale(train_data)\n",
    "                test_data = sklearn.preprocessing.scale(test_data)\n",
    "                \n",
    "        if self.log==2:\n",
    "            train_data = np.log(1+np.abs(train_data)) * np.sign(train_data)\n",
    "            test_data = np.log(1+np.abs(test_data)) * np.sign(test_data)\n",
    "            train_data = sklearn.preprocessing.scale(train_data)\n",
    "            test_data = sklearn.preprocessing.scale(test_data)\n",
    "            \n",
    "        test_labels = self.get_labels()[1]\n",
    "        imag_labels = self.get_labels(1)[2]\n",
    "        num_labels = max(test_labels)+1\n",
    "        \n",
    "        test_data_avg = np.zeros([num_labels, test_data.shape[1]])\n",
    "        test_imag_avg = np.zeros([num_labels, test_data.shape[1]])\n",
    "        \n",
    "        if test_run_list is not None:\n",
    "            run = self.get_meta_field('Run')\n",
    "            test = (self.get_meta_field('DataType') == 2).astype(bool)\n",
    "            run = run[test]\n",
    "            \n",
    "            select = np.in1d(run, test_run_list)\n",
    "            test_data = test_data[select, :]\n",
    "            test_labels = test_labels[select]\n",
    "            \n",
    "        for i in range(num_labels):\n",
    "            test_data_avg[i] = np.mean(test_data[test_labels==i], axis=0)\n",
    "            test_imag_avg[i] = np.mean(test_imag[imag_labels==i], axis=0)\n",
    "            \n",
    "        if imag_data:\n",
    "            return train_data, test_data, test_data_avg, test_imag, test_imag_avg\n",
    "        else:\n",
    "            return train_data, test_data, test_data_avg\n",
    "        \n",
    "    def get_voxel_loc(self):\n",
    "        x = self.get_meta_field('voxel_x')\n",
    "        y = self.get_meta_field('voxel_y')\n",
    "        z = self.get_meta_field('voxel_z')\n",
    "        dim = [int(x.max() - x.min()+1), int(y.max()-y.min()+1), int(z.max()-z.min()+1)]\n",
    "        return [x,y,z], dim\n",
    "            "
   ]
  },
  {
   "cell_type": "code",
   "execution_count": 17,
   "id": "stainless-bonus",
   "metadata": {},
   "outputs": [],
   "source": [
    "kamitani_data_mat = './prj/data/SupplementaryFiles/Subject3.mat'\n",
    "handler = kamitani_data_handler(kamitani_data_mat,\n",
    "                               test_img_csv = './prj/data/SupplementaryFiles/imageID_test.csv',\n",
    "                               train_img_csv='./prj/data/SupplementaryFiles/imageID_training.csv')"
   ]
  },
  {
   "cell_type": "code",
   "execution_count": 18,
   "id": "ignored-holly",
   "metadata": {},
   "outputs": [],
   "source": [
    "Y,Y_test,Y_test_avg = handler.get_data(roi='ROI_VC')"
   ]
  },
  {
   "cell_type": "code",
   "execution_count": 19,
   "id": "collect-jefferson",
   "metadata": {},
   "outputs": [],
   "source": [
    "labels_train, labels = handler.get_labels()"
   ]
  },
  {
   "cell_type": "code",
   "execution_count": 20,
   "id": "silver-consumer",
   "metadata": {},
   "outputs": [],
   "source": [
    "images = np.load(config.npz_file)\n",
    "X = images['train_images']\n",
    "X_test = images['test_images']\n",
    "X = X[labels_train] # get images in order of kamitani labels\n",
    "X_test_sorted = X_test\n",
    "X_test = X_test[labels]"
   ]
  },
  {
   "cell_type": "code",
   "execution_count": 21,
   "id": "expanded-scene",
   "metadata": {},
   "outputs": [
    {
     "data": {
      "text/plain": [
       "([array([-25.5, -25.5, -22.5, ...,  58.5,  58.5,  58.5]),\n",
       "  array([-73.5, -73.5, -76.5, ..., -37.5, -34.5, -34.5]),\n",
       "  array([-19.5, -16.5, -19.5, ..., -10.5, -22.5, -19.5])],\n",
       " [118, 82, 58])"
      ]
     },
     "execution_count": 21,
     "metadata": {},
     "output_type": "execute_result"
    }
   ],
   "source": [
    "handler.get_voxel_loc()"
   ]
  },
  {
   "cell_type": "code",
   "execution_count": 22,
   "id": "square-medline",
   "metadata": {},
   "outputs": [
    {
     "data": {
      "text/plain": [
       "4643"
      ]
     },
     "execution_count": 22,
     "metadata": {},
     "output_type": "execute_result"
    }
   ],
   "source": [
    "NUM_VOXELS = Y.shape[1]\n",
    "NUM_VOXELS"
   ]
  },
  {
   "cell_type": "code",
   "execution_count": 37,
   "id": "expressed-webmaster",
   "metadata": {},
   "outputs": [],
   "source": [
    "from dalle_pytorch import DiscreteVAE, DALLE, OpenAIDiscreteVAE"
   ]
  },
  {
   "cell_type": "code",
   "execution_count": 25,
   "id": "organized-morrison",
   "metadata": {},
   "outputs": [],
   "source": [
    "import torchvision\n",
    "vae = OpenAIDiscreteVAE()\n",
    "dalle = DALLE(\n",
    "    dim = 1024,\n",
    "    vae = vae,\n",
    "    num_text_tokens = 10000,\n",
    "    text_seq_len = 256,\n",
    "    depth = 1,\n",
    "    heads = 4,\n",
    "    dim_head = 64,\n",
    "    attn_dropout = 0.1,\n",
    "    ff_dropout = 0.1\n",
    ")\n",
    "\n",
    "text = "
   ]
  },
  {
   "cell_type": "code",
   "execution_count": 28,
   "id": "furnished-finnish",
   "metadata": {},
   "outputs": [],
   "source": [
    "imgs = torch.tensor(X[:32]).permute(0,3,1,2).float()"
   ]
  },
  {
   "cell_type": "code",
   "execution_count": 36,
   "id": "turned-legislature",
   "metadata": {},
   "outputs": [
    {
     "name": "stderr",
     "output_type": "stream",
     "text": [
      "Clipping input data to the valid range for imshow with RGB data ([0..1] for floats or [0..255] for integers).\n"
     ]
    },
    {
     "data": {
      "text/plain": [
       "<matplotlib.image.AxesImage at 0x284a15be310>"
      ]
     },
     "execution_count": 36,
     "metadata": {},
     "output_type": "execute_result"
    },
    {
     "data": {
      "image/png": "[encoded data removed]",
      "text/plain": [
       "<Figure size 432x288 with 1 Axes>"
      ]
     },
     "metadata": {
      "needs_background": "light"
     },
     "output_type": "display_data"
    }
   ],
   "source": [
    "import matplotlib.pyplot as plt\n",
    "plt.imshow(vae(imgs).permute(0, 2, 3, 1)[0].detach().numpy() * 255)"
   ]
  },
  {
   "cell_type": "code",
   "execution_count": 30,
   "id": "mounted-problem",
   "metadata": {},
   "outputs": [
    {
     "data": {
      "text/plain": [
       "tensor(0.2900, grad_fn=<AddBackward0>)"
      ]
     },
     "execution_count": 30,
     "metadata": {},
     "output_type": "execute_result"
    }
   ],
   "source": [
    "loss"
   ]
  },
  {
   "cell_type": "code",
   "execution_count": null,
   "id": "spiritual-breath",
   "metadata": {},
   "outputs": [],
   "source": []
  }
 ],
 "metadata": {
  "kernelspec": {
   "display_name": "Python 3",
   "language": "python",
   "name": "python3"
  },
  "language_info": {
   "codemirror_mode": {
    "name": "ipython",
    "version": 3
   },
   "file_extension": ".py",
   "mimetype": "text/x-python",
   "name": "python",
   "nbconvert_exporter": "python",
   "pygments_lexer": "ipython3",
   "version": "3.8.8"
  }
 },
 "nbformat": 4,
 "nbformat_minor": 5
}
